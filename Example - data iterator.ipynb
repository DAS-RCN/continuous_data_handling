{
 "cells": [
  {
   "cell_type": "markdown",
   "metadata": {},
   "source": [
    "# DAS data iterator\n",
    "\n",
    "This is a simple example that shows the application of the iterator. "
   ]
  },
  {
   "cell_type": "markdown",
   "metadata": {},
   "source": [
    "Let's first download some FORGE data. \n",
    "Use this script from your shell to download DAS data into a subfolder called 'Data' (or another name, and change configuration file config_general accordingly). The first and last file are considered invalid, because they cannot be properly buffered, and are thus not plotted.\n",
    "\n",
    "wget -q https://pando-rgw01.chpc.utah.edu/silixa_das_apr_26_2019/FORGE_78-32_iDASv3-P11_UTC190426064823.sgy <br>\n",
    "wget -q https://pando-rgw01.chpc.utah.edu/silixa_das_apr_26_2019/FORGE_78-32_iDASv3-P11_UTC190426064838.sgy <br>\n",
    "wget -q https://pando-rgw01.chpc.utah.edu/silixa_das_apr_26_2019/FORGE_78-32_iDASv3-P11_UTC190426064853.sgy <br>\n",
    "wget -q https://pando-rgw01.chpc.utah.edu/silixa_das_apr_26_2019/FORGE_78-32_iDASv3-P11_UTC190426064908.sgy <br>\n",
    "wget -q https://pando-rgw01.chpc.utah.edu/silixa_das_apr_26_2019/FORGE_78-32_iDASv3-P11_UTC190426064923.sgy <br>\n",
    "wget -q https://pando-rgw01.chpc.utah.edu/silixa_das_apr_26_2019/FORGE_78-32_iDASv3-P11_UTC190426064938.sgy <br>"
   ]
  },
  {
   "cell_type": "code",
   "execution_count": null,
   "metadata": {
    "scrolled": false
   },
   "outputs": [
    {
     "data": {
      "application/vnd.jupyter.widget-view+json": {
       "model_id": "dbb2c2dd4c6843979a8953827ef9e9dd",
       "version_major": 2,
       "version_minor": 0
      },
      "text/plain": [
       "FigureCanvasNbAgg()"
      ]
     },
     "metadata": {},
     "output_type": "display_data"
    },
    {
     "data": {
      "application/vnd.jupyter.widget-view+json": {
       "model_id": "bb315c41ec674b788f3e3a89cc76ccf3",
       "version_major": 2,
       "version_minor": 0
      },
      "text/plain": [
       "FigureCanvasNbAgg()"
      ]
     },
     "metadata": {},
     "output_type": "display_data"
    }
   ],
   "source": [
    "import config_general as cfg\n",
    "import data_streaming as stream\n",
    "import matplotlib.pyplot as plt\n",
    "\n",
    "%matplotlib widget\n",
    "data_iter = stream.DataIterator(proc_steps=cfg.proc_steps, folder_name=cfg.data_path,\n",
    "                                    db_name=cfg.events_db_name, output_overlap=cfg.overlap_samples)\n",
    "plt.close('all')\n",
    "for curr_chunk in data_iter:\n",
    "    if curr_chunk.check_validity():\n",
    "        plt.figure(figsize=(7, 4))\n",
    "        plt.imshow(curr_chunk.data, aspect='auto', cmap='seismic')\n",
    "        plt.title(curr_chunk.filename)"
   ]
  },
  {
   "cell_type": "code",
   "execution_count": null,
   "metadata": {},
   "outputs": [],
   "source": []
  }
 ],
 "metadata": {
  "kernelspec": {
   "display_name": "Python 3",
   "language": "python",
   "name": "python3"
  },
  "language_info": {
   "codemirror_mode": {
    "name": "ipython",
    "version": 3
   },
   "file_extension": ".py",
   "mimetype": "text/x-python",
   "name": "python",
   "nbconvert_exporter": "python",
   "pygments_lexer": "ipython3",
   "version": "3.6.11"
  }
 },
 "nbformat": 4,
 "nbformat_minor": 1
}
